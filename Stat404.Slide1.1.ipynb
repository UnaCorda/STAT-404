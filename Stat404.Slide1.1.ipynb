{
 "cells": [
  {
   "cell_type": "markdown",
   "metadata": {
    "slideshow": {
     "slide_type": "slide"
    }
   },
   "source": [
    "## Stat 404, Lecture 1.1: Generals\n",
    "\n",
    "Not many of us remember too much details years after a specific course.\n",
    "\n",
    "* Do you still remember the definition of random variable?\n",
    "* the expection, variance, moment generating function?\n",
    "* the probability mass function of Hypogeometric distribution?\n",
    "\n",
    "You probably know all answers.\n",
    "\n",
    "Do not worry if you do not know all answers exactly."
   ]
  },
  {
   "cell_type": "code",
   "execution_count": null,
   "metadata": {},
   "outputs": [],
   "source": []
  },
  {
   "cell_type": "markdown",
   "metadata": {
    "slideshow": {
     "slide_type": "slide"
    }
   },
   "source": [
    "## Expectations after taking this course\n",
    "\n",
    "There are many tedious details in the Design of Experiment.\n",
    "\n",
    "Aim to remember three principles of the design of experiments even years later.\n",
    "\n",
    "They are:\n",
    "\n",
    "* randomization\n",
    "\n",
    "* replication\n",
    "\n",
    "* blocking\n",
    "\n",
    "These principles will be beaten to death in this course."
   ]
  },
  {
   "cell_type": "markdown",
   "metadata": {
    "slideshow": {
     "slide_type": "slide"
    }
   },
   "source": [
    "## Expectations after taking this course\n",
    "\n",
    "Also, aim to have an impression of some typical designs:\n",
    "\n",
    "* completely randomized design\n",
    "* one way factorial design.\n",
    "* randomized block design\n",
    "* two-way factorial design\n",
    "* Factorial and fractional factorial design\n",
    "* Latin square design\n",
    "\n",
    "This course will go over the model, theory and data analysis strategies behind these designs."
   ]
  },
  {
   "cell_type": "markdown",
   "metadata": {
    "slideshow": {
     "slide_type": "slide"
    }
   },
   "source": [
    "## Expectations after taking this course\n",
    "\n",
    "We will learn or re-learn the following together: \n",
    "\n",
    "* regression analysis\n",
    "* paired t-test, two sample t-test\n",
    "* randomization test\n",
    "* multiple comparison\n",
    "* analysis of variance (anova)\n"
   ]
  },
  {
   "cell_type": "markdown",
   "metadata": {
    "slideshow": {
     "slide_type": "slide"
    }
   },
   "source": [
    "## Expectations after taking this course\n",
    "\n",
    "After this course, let us claim the ownership of the knowledge on\n",
    "\n",
    "* properties of the normal distribution.\n",
    "* the chi-square distributions.\n",
    "* the F-distribution.\n",
    "* sum of squares formulas.\n"
   ]
  },
  {
   "cell_type": "markdown",
   "metadata": {
    "slideshow": {
     "slide_type": "slide"
    }
   },
   "source": [
    "## Notion of Experiment\n",
    "\n",
    "Every day English on experiment: trying something new or different.\n",
    "\n",
    "* By statistically designed experiment: we look for a systematic plan for investigating and testing different strategies:\n",
    "\n",
    "      -- alternative pharmaceutical drugs\n",
    "      -- different advertising formats\n",
    "      -- several engine configurations\n",
    "      -- agricultural, industrial, social and so on.\n",
    "\n",
    "\n",
    "* Do not overly glorify statistic: we assist scientists in their research.\n"
   ]
  },
  {
   "cell_type": "markdown",
   "metadata": {
    "slideshow": {
     "slide_type": "slide"
    }
   },
   "source": [
    "## Statistics or Data Science? What is statistics?\n",
    "\n",
    "Regardless of the name, the main objective of statistics is to get information contained in the data about the sytem.\n",
    "\n",
    "* The output of a system is often noisy or it is random.\n",
    "* Statistics is a discipline aims to develop and learn the models to describe the randomness. \n",
    "* Through the analysis of the data from the system, we learn, explain and predict its behaviour."
   ]
  },
  {
   "cell_type": "markdown",
   "metadata": {
    "slideshow": {
     "slide_type": "slide"
    }
   },
   "source": [
    "## Modeling\n",
    "\n",
    "* When we toss a coin 10 times, it is not realistic to predict the individual outcomes accurately before the experiment.\n",
    "\n",
    "* The probability of observing $x$ heads is well justified to be modelled by\n",
    "$$P( X = x) = {10 \\choose x} p^x (1-p)^{10-x}$$\n",
    "for $x$ between 0 and 10, with some value $p$.\n",
    "\n",
    "* In other words, we model this sytem by a binomial distribution with a parameter $p$.\n"
   ]
  },
  {
   "cell_type": "markdown",
   "metadata": {
    "slideshow": {
     "slide_type": "slide"
    }
   },
   "source": [
    "## Data analysis\n",
    "\n",
    "* if a fair coin is used, we believe the binomial with $p=0.5$ is the suitable for the system.\n",
    "* we may check the accuracy of $p=0.5$ by first tossing a coin $n=10000$ times.\n",
    "* after which, we may construct a 95% confidence interval for $p$ and see if $p=0.5$ should have our confidence.\n",
    "\n",
    "While simple, this example goes over three basic steps in scientific investigation: hypothesis, data collection, inference."
   ]
  },
  {
   "cell_type": "markdown",
   "metadata": {
    "slideshow": {
     "slide_type": "slide"
    }
   },
   "source": [
    "## Explain and prediction\n",
    "\n",
    "Suppose the binomial distribution of $p=0.5$ is an accurate description of the real world.\n",
    "\n",
    "We infer from this model that\n",
    "* the average number of tosses needed to see H is 2;\n",
    "* the average number of tosses needed to see HH is 2+4;\n",
    "* the average number of tosses needed to see HHHHHHH is 2+4+8+ ... + 128 =254.\n",
    "\n",
    "Tossing a coin 1000 times, there is a good chance to see the occurance of HHHHHHH. Otherwise, someone has likely cheated.\n"
   ]
  },
  {
   "cell_type": "code",
   "execution_count": 3,
   "metadata": {
    "slideshow": {
     "slide_type": "slide"
    }
   },
   "outputs": [
    {
     "name": "stdout",
     "output_type": "stream",
     "text": [
      "[1] \"i=\"  \"194\"\n",
      "[1] \"you did it\"\n"
     ]
    }
   ],
   "source": [
    "# Let us use R to do a sanity check:\n",
    "\n",
    "xx = rbinom(1000, 1, 0.5)\n",
    "\n",
    "for (i in 1:993) {\n",
    "    if(sum(xx[i:(i+6)])==7) {print(c(\"i=\", i)); print(\"you did it\"); break}\n",
    "    }"
   ]
  },
  {
   "cell_type": "markdown",
   "metadata": {
    "slideshow": {
     "slide_type": "slide"
    }
   },
   "source": [
    "## Challenge: \n",
    "\n",
    "How do you check if the predicted 524 waiting time is accurate by simulation?"
   ]
  },
  {
   "cell_type": "markdown",
   "metadata": {
    "slideshow": {
     "slide_type": "slide"
    }
   },
   "source": [
    "## A few slides on prob theory.\n",
    "\n",
    "* Image a simplistic system whose all possible outcomes can be conceptually identified.\n",
    "\n",
    "* Denote the space of all possible outcomes as $\\Omega$, called it sample space.\n",
    "\n",
    "* Assign a value between 0 and 1 to practically for all possible subsets of $\\Omega$. Subsets are denoted as $A$, $B$ etc.\n",
    "       \n",
    "* These manupulations lead to a probablity measure on $\\Omega$, in the form of $P(A)$."
   ]
  },
  {
   "cell_type": "markdown",
   "metadata": {
    "slideshow": {
     "slide_type": "slide"
    }
   },
   "source": [
    "## A few slides on prob theory.\n",
    "\n",
    "* To make $P(A)$ useful, we require $P(A \\cup B) = P(A) + P(B)$ if $A$ and $B$ are mutually exclusive.\n",
    "\n",
    "* If $A$ and $B$ are not mutually exclusive, the above requirement leads to formula $P(A \\cup B) = P(A) + P(B) - P(AB)$.\n",
    "\n",
    "* In applications, we aim to make $P(A)$ be the chance that the outcome of the experiment is a member of $A$.\n",
    "\n",
    "* In view of the above understanding, $P(AB)$ is the chance that the outcome is a member of both $A$ and $B$.\n",
    "\n",
    "* More often, we state instead that $P(A)$ is the probability that $A$ occurs."
   ]
  },
  {
   "cell_type": "markdown",
   "metadata": {
    "slideshow": {
     "slide_type": "slide"
    }
   },
   "source": [
    "## A few slides on prob theory.\n",
    "\n",
    "* Suppose the outcome is known to be a member of $B$ already, what is the chance that it is also a member of $A$?\n",
    "\n",
    "* In probability theory, we state: what is the conditional probability of $A$ given $B$.\n",
    "\n",
    "* It is easy to justify that this conditional probability should be $P(A|B) = P(AB)/P(B)$.\n",
    "\n",
    "* We should of course require $P(B) > 0$ to make the above interpretation meaningful."
   ]
  },
  {
   "cell_type": "markdown",
   "metadata": {
    "slideshow": {
     "slide_type": "slide"
    }
   },
   "source": [
    "## A few slides on prob theory.\n",
    "\n",
    "* Suppose the outcome of a random system must be a member of $A_1$, $A_2$ or $A_3$. There are not other possibilities.\n",
    "\n",
    "* Suppose the system is well known so we know the value of $P(A_1)$, $P(A_2)$ and $P(A_3)$.\n",
    "\n",
    "* The outcome of the system in one instance is be a member of $B$, what is the chance that it is also a member of $A_1$, $A_2$ or $A_3$ respectively?\n",
    "\n",
    "* Bayes formula states $$P(A_i|B) = \\frac{P(B|A_i)P(A_i)}{P(B|A_1)P(A_1)+P(B|A_2)P(A_2)+P(B|A_3)P(A_3)}.$$"
   ]
  },
  {
   "cell_type": "code",
   "execution_count": null,
   "metadata": {},
   "outputs": [],
   "source": []
  }
 ],
 "metadata": {
  "celltoolbar": "Slideshow",
  "kernelspec": {
   "display_name": "R",
   "language": "R",
   "name": "ir"
  },
  "language_info": {
   "codemirror_mode": "r",
   "file_extension": ".r",
   "mimetype": "text/x-r-source",
   "name": "R",
   "pygments_lexer": "r",
   "version": "4.0.0"
  }
 },
 "nbformat": 4,
 "nbformat_minor": 4
}

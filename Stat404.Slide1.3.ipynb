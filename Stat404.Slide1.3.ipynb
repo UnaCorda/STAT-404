{
 "cells": [
  {
   "cell_type": "markdown",
   "metadata": {
    "slideshow": {
     "slide_type": "slide"
    }
   },
   "source": [
    "## Lecture 1.3: Fundamentals explained.\n",
    "\n",
    "### Replication\n",
    "\n",
    "* When a treatment is applied to several experiment units,  we call it replication.\n",
    "\n",
    "* In general, the outcomes of the response variable on different units differ.\n",
    "\n",
    "* This variation reflects the magnitude of -experimental error-.\n",
    "\n",
    "* Large variation makes it harder to isolate the difference betweem treatments.\n",
    "\n",
    "* Replication helps to separate the treatment effect in the form of expected response value from experiment errors."
   ]
  },
  {
   "cell_type": "markdown",
   "metadata": {
    "slideshow": {
     "slide_type": "slide"
    }
   },
   "source": [
    "## how does replication help?\n",
    "\n",
    "In most cases, our focus is on the average performance of a treatment.\n",
    "\n",
    "The outcome of a single trial can be very important to an individual but historically we have no choice but to study the average effect.\n",
    "\n",
    "Here is a hypothetical example."
   ]
  },
  {
   "cell_type": "markdown",
   "metadata": {
    "slideshow": {
     "slide_type": "slide"
    }
   },
   "source": [
    "### Hypothetical example: does a new medicine extend patient life?\n",
    "\n",
    "* Suppose the survival time of patients of some disease varies from 1 to 10 years with a historic average 6.\n",
    "\n",
    "* If a new medicine was applied to only a single patient and he lived for 8 years, its superiority is not convincing.\n",
    "\n",
    "* If it was applied to 100 patients and they lived 8 years on average, the new medicine is seen effective.\n",
    "\n",
    "* How to explain our intuition of trusting the result of the experiment with 100 replicates? "
   ]
  },
  {
   "cell_type": "markdown",
   "metadata": {
    "slideshow": {
     "slide_type": "slide"
    }
   },
   "source": [
    "### Hypothetical example: does a new medicine extend patient life?\n",
    "\n",
    "Here is the explanation with some statistics knowledge:\n",
    "\n",
    "* A single observation has a standard deviation around 2.5 years (why?).\n",
    "\n",
    "* Hence, beating the historic average by 2 is not so impressive. It can be just lucky.\n",
    "\n",
    "* The average of 100 values has much lower standard deviation at 0.25 years (why?).\n",
    "\n",
    "* Hence, beating the historic average by 2 is impressive."
   ]
  },
  {
   "cell_type": "markdown",
   "metadata": {
    "slideshow": {
     "slide_type": "slide"
    }
   },
   "source": [
    "## Issue of fake replication\n",
    "\n",
    "Number of replicates is commonly called -sample size-.\n",
    "\n",
    "Its meaning is usually obvious and no explanation is needed.\n",
    "\n",
    "There are occasions we can be fooled.\n",
    "\n",
    "Let us have a look of https://www.paperhelicopterexperiment.com/"
   ]
  },
  {
   "cell_type": "markdown",
   "metadata": {
    "slideshow": {
     "slide_type": "slide"
    }
   },
   "source": [
    "### Follow the instructions of this website\n",
    "\n",
    "Drop the helicopter from a height of 1.5 meters and record the time it takes to touch the ground inside some closed space.\n",
    "\n",
    "* Do we have 10 replicates if 10 students have each recorded the time it takes?\n",
    "\n",
    "* Do we have 10 replicates if the same model is dropped 10 times from the same height?\n",
    "\n",
    "* Do we have 10 replicates if we run with 10 (nearly identical) models?"
   ]
  },
  {
   "cell_type": "markdown",
   "metadata": {
    "slideshow": {
     "slide_type": "slide"
    }
   },
   "source": [
    "## Randomization explained\n",
    "\n",
    "* In applications, the experiment units may not be alike enough against our wish.\n",
    "\n",
    "* To prevent unwanted influence of subjective judgment, the units should be allocated to treatment in random order.\n",
    "\n",
    "* That is, which unit receives which treatment is randomized.\n",
    "\n",
    "* It provides protection against variables (factors) that are unknown to the experimenter  but may impact the response.\n",
    "\n",
    "* Another benefit of randomization will be discussed in the future."
   ]
  },
  {
   "cell_type": "markdown",
   "metadata": {
    "slideshow": {
     "slide_type": "slide"
    }
   },
   "source": [
    "### Words from Internet:\n",
    "\n",
    "* The main purpose for using randomization in an experiement is to automatically control the lurking variable. \n",
    "\n",
    "* The main purpose for using randomization in an experiment is to control the lurking variable and establish a cause and effect relationship.\n",
    "\n",
    "- A well-respect hospital has much lower success rate for treating kidney stone than some nobody hospitals.\n",
    "\n",
    "- What could be the explanation?\n",
    "\n"
   ]
  },
  {
   "cell_type": "markdown",
   "metadata": {
    "slideshow": {
     "slide_type": "slide"
    }
   },
   "source": [
    "### Suggestive explanation:\n",
    "\n",
    "* This hospital is so privileged that it only takes most difficult cases.\n",
    "\n",
    "\n",
    "* Patients choose hospitals, they are not randomly assigned to hospitals.\n",
    "\n"
   ]
  },
  {
   "cell_type": "markdown",
   "metadata": {
    "slideshow": {
     "slide_type": "slide"
    }
   },
   "source": [
    "## Blocking explained\n",
    "\n",
    "* Whatever the real experiment is, the treatments are applied to some objects. \n",
    "\n",
    "* Ideally, these objects are indistinguishable so that the differences in outcome of the experiment can be attributed to the effect of different treatments.\n",
    "\n",
    "* If we do not have sufficient number of indistinguishable objects for experiment, the practice of blocking can mitigate this issue."
   ]
  },
  {
   "cell_type": "markdown",
   "metadata": {
    "slideshow": {
     "slide_type": "slide"
    }
   },
   "source": [
    "## Blocking explained\n",
    "\n",
    "* Suppose the experiment units seem different but can be divided into groups so that units in the same group are \"indistinguishable\".\n",
    "\n",
    "* We may then insist on compare different treatments within same groups. For instance, swimmers should complete in the same pool, rather than compare their times taken in different pools.\n",
    "\n",
    "* The practice of dividing experimental units into groups is called blocking. It is good practice to design experiments so that treatments are compared in the same block.\n",
    "\n",
    "Typical blocking example:\n",
    "\n",
    "A car has only 4 wheels. To compare the preformance of two types of tyres/tires over 100 tyres of each kind, it is best to have 2 of each kind in each car, with positions on the car randomized (or further blocked)."
   ]
  },
  {
   "cell_type": "markdown",
   "metadata": {
    "slideshow": {
     "slide_type": "slide"
    }
   },
   "source": [
    "### Summary:\n",
    "\n",
    "* Replication: reduce the influence of the experimental error.\n",
    "\n",
    "* randomization: reduce the influence of un-anticipated factors.\n",
    "\n",
    "* blocking: balance out the effect of factors not of interest.\n",
    "\n",
    "\n",
    "### The famous doctrine in experimental design: \n",
    "\n",
    "**Block what you can and randomize what you cannot**. \n"
   ]
  },
  {
   "cell_type": "markdown",
   "metadata": {
    "slideshow": {
     "slide_type": "slide"
    }
   },
   "source": [
    "##Some mathematical statistics\n",
    "\n",
    "What is statistics?\n",
    "\n",
    "By examining the outcome of a process involving uncertainty, statisticians give educated guess of what must be the rule\n",
    "that governs the randomness.\n",
    "\n",
    "Often, our guess is based on a well motivated probability model.\n",
    "\n",
    "When we toss a coin 10 times, a binomial distribution is well motivated for the probability of observing $x$ heads:\n",
    "$$\n",
    "P( X = x) = {10 \\choose x} p^x (1-p)^{10-x}\n",
    "$$\n",
    "for some value $p$.\n",
    "\n",
    "\n",
    "In other words, we accept the binomial model with parameter $p$.\n"
   ]
  },
  {
   "cell_type": "markdown",
   "metadata": {
    "slideshow": {
     "slide_type": "slide"
    }
   },
   "source": [
    "### Estimation\n",
    "\n",
    "Presumably, the value of $p$ is $0.5$ for a fair coin. \n",
    "\n",
    "If we are not sure\n",
    "about the fairness of this coin, then we may come up with a most likely\n",
    "value of $p$ after we actually toss a coin many many times.\n",
    "\n",
    "\n",
    "You must have seen the claim that $\\hat p = x/n$ is the maximum\n",
    "likelihood estimator of $p$ and so on.\n"
   ]
  },
  {
   "cell_type": "markdown",
   "metadata": {
    "slideshow": {
     "slide_type": "slide"
    }
   },
   "source": [
    "### Hypothesis test\n",
    "Suppose we wish to dispute that the fair value is $p=0.5$.\n",
    "\n",
    "We may then toss the coin $n$ times, collect the data\n",
    "and test the hypothesis\n",
    "$$\n",
    "H_0: p = 0.5 \\mbox{ against }\n",
    "H_a: p \\neq 0.5.\n",
    "$$\n",
    "\n",
    "* if after 10 trials, 2 outcomes are tails, what is your impression on the truthfulness of $H_0$?\n",
    "\n",
    "* what if after 100 trials, 20 outcomes are tails?\n",
    "\n",
    "* Does it matter if the alternative is $H_a: p < 0.5$ or $H_a: p > 0.5$\n"
   ]
  },
  {
   "cell_type": "markdown",
   "metadata": {
    "slideshow": {
     "slide_type": "slide"
    }
   },
   "source": [
    "### Sample mean and variance\n",
    "\n",
    "Suppose in a data analysis project,\n",
    "we have observations $y_1, y_2, \\ldots, y_n$ (due to replicates).\n",
    "\n",
    "The derviations below assume iid.\n",
    "\n",
    "In most statistical analysis, sample mean and sample variances\n",
    "are employed:\n",
    "\\begin{eqnarray*}\n",
    "\\bar y_n \n",
    "&=&\n",
    " (y_1 + y_2 + \\cdots + y_n)/n = n^{-1} \\sum_{i=1}^n y_i;\\\\\n",
    "s_n^2 \n",
    "&=&\n",
    " \\{ (y_1 - \\bar y)^2 + (y_2 - \\bar y)^2 + \\cdots + (y_n - \\bar y)^2 \\}/(n-1)\n",
    "= (n-1)^{-1}  \\sum_{i=1}^n (y_i - \\bar y)^2.\n",
    "\\end{eqnarray*}"
   ]
  },
  {
   "cell_type": "markdown",
   "metadata": {
    "slideshow": {
     "slide_type": "slide"
    }
   },
   "source": [
    "### Population mean and variance\n",
    "\n",
    "Suppose $\\mu = E(Y)$ and $\\sigma^2 = Var(Y)$.\n",
    "We have\n",
    "\\begin{eqnarray*}\n",
    "E(\\bar{y}_n) &=&\n",
    "n^{-1} \\sum_{i=1}^n E (y_i) = \\mu;\\\\\n",
    "Var(\\bar y_n) &=&\n",
    "n^{-2} \\sum_{i=1}^n Var(y_i) = \\sigma^2/n\n",
    "\\end{eqnarray*}\n",
    "\n",
    "* the expectation of the sample mean is the same as individual.\n",
    "\n",
    "* the variance of the sample mean is one $n$th of an individual."
   ]
  },
  {
   "cell_type": "markdown",
   "metadata": {
    "slideshow": {
     "slide_type": "slide"
    }
   },
   "source": [
    "### Connection with replication\n",
    "\n",
    "Because\n",
    "$Var(\\bar y_n) = \\sigma^2/n$,\n",
    "replicating the experiment $n$ times reduce\n",
    "the variance by a factor of $n$.\n",
    "\n",
    "* replication is helpful here.\n",
    "\n",
    "\n",
    "Recall the length of the CI for $\\mu$ is proportional to $\\sigma/\\sqrt{n}$.\n",
    "\n",
    "* To reduce the length by a factor of two, we must increase the sample size\n",
    "(number of replicates) by a factor of 4."
   ]
  },
  {
   "cell_type": "markdown",
   "metadata": {
    "slideshow": {
     "slide_type": "slide"
    }
   },
   "source": [
    "### Sample variance\n",
    "\n",
    "We may find sample variance is also given by\n",
    "$$\n",
    "s^2 = \\mbox{average of } \\{ (y_i - y_j)^2/2\\}  \\mbox{ for } i \\neq j\n",
    "$$\n",
    "Trust me for the moment.\n",
    "\n",
    "It is seen that\n",
    "$$\n",
    "E\\{ (y_1 - y_2)^2\\} = Var(y_1) + Var(y_2) = 2 \\sigma^2.\n",
    "$$\n",
    "Hence,\n",
    "$$\n",
    "E (s^2) = \\{ \\mbox{average of } E \\{ (y_i - y_j)^2/2\\}  \\mbox{ for } i \\neq j \\} = \\sigma^2.\n",
    "$$\n",
    "\n",
    "Because of this, we say $s^2$ is an unbiased estimator of $\\sigma^2$."
   ]
  },
  {
   "cell_type": "markdown",
   "metadata": {
    "slideshow": {
     "slide_type": "slide"
    }
   },
   "source": [
    "### Sample variance algebra\n",
    "\n",
    "In words: the sample variance $s^2$ \n",
    "is the average squared difference between observations.\n",
    "\n",
    "To prove this claim, we note\n",
    "\\begin{eqnarray*}\n",
    "\\sum_{i, j} (y_i - y_j)^2 \n",
    "&=&\n",
    "\\sum_{i, j} \\{  (y_i - \\bar y) - (y_j - \\bar y)\\}^2\\\\\n",
    "&=&\n",
    "n \\sum_{i} (y_i - \\bar y)^2 + n \\sum_{j} (y_j - \\bar y)^2 - 2 \\sum_{i,j}(y_i - \\bar y)(y_j - \\bar y).\n",
    "\\end{eqnarray*}\n",
    "\n",
    "Not too hardly,\n",
    "$$\n",
    " \\sum_{i,j}(y_i - \\bar y)(y_j - \\bar y) = 0.\n",
    "$$\n",
    "Hence,\n",
    "$$\n",
    "\\frac{1}{n(n-1)} \\sum_{i, j} (y_i - y_j)^2 \n",
    " =\n",
    "\\frac{1}{n-1}  \\sum_{i} (y_i - \\bar y)^2 + \\frac{1}{n-1}  \\sum_{j} (y_j - \\bar y)^2 \n",
    "=\n",
    "2 s^2.\n",
    "$$"
   ]
  },
  {
   "cell_type": "markdown",
   "metadata": {
    "slideshow": {
     "slide_type": "slide"
    }
   },
   "source": [
    "### Sample variance algebra\n",
    "\n",
    "Also take note\n",
    "$$\n",
    "\\sum_i (y_i - \\bar y)^2\n",
    "=\n",
    "\\sum_i (y_i^2 - 2 y_i \\bar y + \\bar y^2)\n",
    "=\n",
    "\\sum_i (y_i^2 )  - 2 \\bar y \\sum_i y_i + n \\bar y^2\\\\\n",
    "=\n",
    "\\sum_i (y_i^2 )  - 2 n \\bar y^2 + n \\bar y^2 =\n",
    "\\sum_i y_i^2   - n \\bar y^2.\n",
    "$$\n",
    "\n",
    "We get\n",
    "$$\n",
    " \\sum_i (y_i - \\bar y)^2\n",
    "= \\sum_i y_i^2   - n \\bar y^2\n",
    "$$\n",
    "and\n",
    "$$\n",
    " \\sum_i y_i^2 \n",
    "=\\sum_i (y_i - \\bar y)^2\n",
    "+ n \\bar y^2.\n",
    "$$\n",
    " \n",
    "The sum of squares formulas will be used\n",
    "very often."
   ]
  },
  {
   "cell_type": "markdown",
   "metadata": {
    "slideshow": {
     "slide_type": "slide"
    }
   },
   "source": [
    "### Numerical demo\n",
    "\n",
    "Suppose we have 7 observed values as follows\n",
    "\n",
    "* 1037.56  53.00  44.58 136.30 857.08 250.00 180.00"
   ]
  },
  {
   "cell_type": "code",
   "execution_count": 1,
   "metadata": {
    "slideshow": {
     "slide_type": "slide"
    }
   },
   "outputs": [
    {
     "name": "stdout",
     "output_type": "stream",
     "text": [
      "[1]     379.7886  160952.5722 1975390.9464  965715.4335\n"
     ]
    },
    {
     "data": {
      "text/html": [
       "FALSE"
      ],
      "text/latex": [
       "FALSE"
      ],
      "text/markdown": [
       "FALSE"
      ],
      "text/plain": [
       "[1] FALSE"
      ]
     },
     "metadata": {},
     "output_type": "display_data"
    },
    {
     "name": "stdout",
     "output_type": "stream",
     "text": [
      "[1] 1975391 1975391\n"
     ]
    }
   ],
   "source": [
    "# R-codes:\n",
    "yy=c(1037.56,53.00,44.58,136.30,857.08,250.00,280.00)\n",
    "ybar = mean(yy)\n",
    "yvar = var(yy)\n",
    "ssy = sum(yy^2)\n",
    "ssybar = sum( (yy-ybar)^2)\n",
    "print(c(ybar, yvar, ssy, ssybar))\n",
    "#### The values of $\\bar y^2$, $\\sum (y_i-\\bar y)^2$ and $\\sum y_i^2$\n",
    "\n",
    "ssybar + length(yy)*ybar^2 == ssy\n",
    "### are they equal?\n",
    "\n",
    "print(c(ssybar + length(yy)*ybar^2, ssy))\n",
    "### What is wrong?"
   ]
  },
  {
   "cell_type": "code",
   "execution_count": null,
   "metadata": {},
   "outputs": [],
   "source": []
  }
 ],
 "metadata": {
  "celltoolbar": "Slideshow",
  "kernelspec": {
   "display_name": "R",
   "language": "R",
   "name": "ir"
  },
  "language_info": {
   "codemirror_mode": "r",
   "file_extension": ".r",
   "mimetype": "text/x-r-source",
   "name": "R",
   "pygments_lexer": "r",
   "version": "4.0.0"
  }
 },
 "nbformat": 4,
 "nbformat_minor": 4
}

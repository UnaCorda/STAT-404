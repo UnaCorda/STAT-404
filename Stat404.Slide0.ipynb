{
 "cells": [
  {
   "cell_type": "markdown",
   "metadata": {
    "slideshow": {
     "slide_type": "slide"
    }
   },
   "source": [
    "# Stat 404. Design of Experiment\n",
    "\n",
    "Instructor: Jiahua Chen\n",
    "\n",
    "Department of Statistics\n",
    "\n",
    "Office: ESB 3136\n",
    "\n",
    "Email jhchen@stat.ubc.ca"
   ]
  },
  {
   "cell_type": "markdown",
   "metadata": {
    "slideshow": {
     "slide_type": "slide"
    }
   },
   "source": [
    "## Academic Year 2020-2021, term I.\n",
    "\n",
    "### Lecture days: \n",
    "\n",
    "Tuesday and Thursday.\n",
    "  * First day of class: Sept 8, 2020.\n",
    "  * Last day of class: Dec 3, 2020.\n",
    "\n",
    "### Time of instructions: \n",
    "\n",
    "* Pacific time: 8:00am-9:30am.\n",
    "* Beijing time: Sept 1-Nov 1, 11:00pm-00:30am; Nov 2-Dec 3, 12:00pm-1:30am.              \n",
    "* India standard time: Sept 1-Nov 1, 8:30pm-10:00pm; Nov 2-Dec 3, 9:30pm-11:00pm.\n",
    "* GMT: Sept 1-Nov 1, 3:00pm -4:30pm, Nov 2-Dec 3, 4:00pm -5:30pm."
   ]
  },
  {
   "cell_type": "markdown",
   "metadata": {
    "slideshow": {
     "slide_type": "slide"
    }
   },
   "source": [
    "## Special consideration due to covid-19\n",
    "\n",
    "* The regular lectures may be shorter than indicated. \n",
    "* Sync sessions will be provided Pacific time: 7:00pm-8:00pm.\n",
    "* Sync sessions will not repeat morning lecture but provide summary information, additional explanations, examples.\n",
    "* Slides and lecture notes will be posted on [Canvas] https://canvas.ubc.ca/courses/56293"
   ]
  },
  {
   "cell_type": "markdown",
   "metadata": {
    "slideshow": {
     "slide_type": "slide"
    }
   },
   "source": [
    "## Course Information\n",
    "\n",
    "Syllabus, Assignments, annoucements and other course information\n",
    "are or will be posted at\n",
    "\n",
    "[Canvas] https://canvas.ubc.ca/courses/56293\n",
    "\n",
    "You are encouraged to post questions and provide answers to discuss question in the discussion section.\n",
    "\n",
    "TAs and instructor will help answering questions when appropriate."
   ]
  },
  {
   "cell_type": "markdown",
   "metadata": {
    "slideshow": {
     "slide_type": "slide"
    }
   },
   "source": [
    "## Assessment\n",
    "\n",
    "* There will be five assignments and ten weekly quizzes.\n",
    "* Marks may not be evenly distributed between them. \n",
    "* Assignment problems due dates will be posted on Canvas.\n",
    "* An on-line midterm will be held in (tentatively) Oct 22 lecture time.\n",
    "* Final exam date will be arranged by the University.\n",
    "* Late submissions may not be accepted or results in a 50% deduction of the mark.\n",
    "* When a concession is granted, the final mark will be evened out on other parts of the course work. "
   ]
  },
  {
   "cell_type": "markdown",
   "metadata": {
    "slideshow": {
     "slide_type": "slide"
    }
   },
   "source": [
    "## Final Mark:\n",
    "\n",
    "* 20% mini-quiz + 20% midterm + 20% assignment + 40% final exam.\n",
    "\n",
    "* One must attain 50\\% in the final exam to pass the course."
   ]
  }
 ],
 "metadata": {
  "celltoolbar": "Slideshow",
  "kernelspec": {
   "display_name": "Python 3",
   "language": "python",
   "name": "python3"
  },
  "language_info": {
   "codemirror_mode": {
    "name": "ipython",
    "version": 3
   },
   "file_extension": ".py",
   "mimetype": "text/x-python",
   "name": "python",
   "nbconvert_exporter": "python",
   "pygments_lexer": "ipython3",
   "version": "3.7.4"
  }
 },
 "nbformat": 4,
 "nbformat_minor": 4
}
